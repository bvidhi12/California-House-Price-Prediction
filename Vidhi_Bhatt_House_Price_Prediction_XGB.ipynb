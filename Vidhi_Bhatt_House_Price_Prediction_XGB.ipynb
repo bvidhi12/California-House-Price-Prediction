{
  "cells": [
    {
      "cell_type": "code",
      "execution_count": 1,
      "metadata": {
        "id": "A6HSgy1CepdO"
      },
      "outputs": [],
      "source": [
        "#importing libraries\n",
        "import pandas as pd\n",
        "import matplotlib.pyplot as plt"
      ]
    },
    {
      "cell_type": "code",
      "execution_count": 2,
      "metadata": {
        "colab": {
          "base_uri": "https://localhost:8080/"
        },
        "id": "600xmBFkpOXk",
        "outputId": "ded4abbe-da5f-4698-b79a-08f22baa9e4b"
      },
      "outputs": [
        {
          "name": "stderr",
          "output_type": "stream",
          "text": [
            "/var/folders/v9/47dbywsd3kq7y4_mgpqb1kqm0000gn/T/ipykernel_49352/1710713689.py:6: DtypeWarning: Columns (4) have mixed types. Specify dtype option on import or set low_memory=False.\n",
            "  df6 = pd.read_csv('CRMLSSold202506_filled.csv')\n"
          ]
        }
      ],
      "source": [
        "df1 = pd.read_csv('CRMLSSold202501_filled.csv')\n",
        "df2 = pd.read_csv('CRMLSSold202502_filled.csv')\n",
        "df3 = pd.read_csv('CRMLSSold202503_filled.csv')\n",
        "df4 = pd.read_csv('CRMLSSold202504_filled.csv')\n",
        "df5 = pd.read_csv('CRMLSSold202505_filled.csv')\n",
        "df6 = pd.read_csv('CRMLSSold202506_filled.csv')\n",
        "df7 = pd.read_csv('CRMLSSold202507_filled.csv')\n",
        "df8 = pd.read_csv('CRMLSSold202508_filled-2.csv')\n",
        "df9 = pd.read_csv('CRMLSSold202509.csv')\n",
        "\n",
        "df = pd.concat([df1, df2, df3, df4, df5, df6, df7, df8,df9], ignore_index=True)"
      ]
    },
    {
      "cell_type": "markdown",
      "metadata": {
        "id": "4cXodC2HWV50"
      },
      "source": [
        "**FILTERING FOR PROPERTY TYPE**"
      ]
    },
    {
      "cell_type": "code",
      "execution_count": 3,
      "metadata": {
        "colab": {
          "base_uri": "https://localhost:8080/"
        },
        "id": "Vxmp2_Gtp217",
        "outputId": "26364c7b-462b-47da-ce37-ed839402a7b8"
      },
      "outputs": [
        {
          "name": "stdout",
          "output_type": "stream",
          "text": [
            "(97987, 80)\n"
          ]
        }
      ],
      "source": [
        "df = df[\n",
        "    (df[\"PropertyType\"] == \"Residential\") &\n",
        "    (df[\"PropertySubType\"] == \"SingleFamilyResidence\")\n",
        "]\n",
        "\n",
        "print(df.shape)"
      ]
    },
    {
      "cell_type": "markdown",
      "metadata": {
        "id": "pqNoz2zLWbFx"
      },
      "source": [
        "**DROPPING OF COLUMNS**"
      ]
    },
    {
      "cell_type": "code",
      "execution_count": 4,
      "metadata": {
        "colab": {
          "base_uri": "https://localhost:8080/"
        },
        "id": "KeWh8N-jqnSs",
        "outputId": "84ed2a1c-8368-47ce-82a0-dd64e5ef91b2"
      },
      "outputs": [
        {
          "data": {
            "text/plain": [
              "Index(['BuyerAgentAOR', 'ListAgentAOR', 'Flooring', 'ViewYN', 'WaterfrontYN',\n",
              "       'BasementYN', 'PoolPrivateYN', 'OriginalListPrice', 'ListingKey',\n",
              "       'ListAgentEmail', 'CloseDate', 'ClosePrice', 'ListAgentFirstName',\n",
              "       'ListAgentLastName', 'Latitude', 'Longitude', 'UnparsedAddress',\n",
              "       'PropertyType', 'LivingArea', 'ListPrice', 'DaysOnMarket',\n",
              "       'ListOfficeName', 'BuyerOfficeName', 'CoListOfficeName',\n",
              "       'ListAgentFullName', 'CoListAgentFirstName', 'CoListAgentLastName',\n",
              "       'BuyerAgentMlsId', 'BuyerAgentFirstName', 'BuyerAgentLastName',\n",
              "       'FireplacesTotal', 'AssociationFeeFrequency', 'AboveGradeFinishedArea',\n",
              "       'ListingKeyNumeric', 'MLSAreaMajor', 'TaxAnnualAmount',\n",
              "       'CountyOrParish', 'MlsStatus', 'ElementarySchool', 'AttachedGarageYN',\n",
              "       'ParkingTotal', 'BuilderName', 'PropertySubType', 'LotSizeAcres',\n",
              "       'SubdivisionName', 'BuyerOfficeAOR', 'YearBuilt', 'StreetNumberNumeric',\n",
              "       'ListingId', 'BathroomsTotalInteger', 'City', 'TaxYear',\n",
              "       'BuildingAreaTotal', 'BedroomsTotal', 'ContractStatusChangeDate',\n",
              "       'ElementarySchoolDistrict', 'CoBuyerAgentFirstName',\n",
              "       'PurchaseContractDate', 'ListingContractDate', 'BelowGradeFinishedArea',\n",
              "       'BusinessType', 'StateOrProvince', 'CoveredSpaces',\n",
              "       'MiddleOrJuniorSchool', 'FireplaceYN', 'Stories', 'HighSchool',\n",
              "       'Levels', 'LotSizeDimensions', 'LotSizeArea', 'MainLevelBedrooms',\n",
              "       'NewConstructionYN', 'GarageSpaces', 'HighSchoolDistrict', 'PostalCode',\n",
              "       'AssociationFee', 'LotSizeSquareFeet', 'MiddleOrJuniorSchoolDistrict',\n",
              "       'latfilled', 'lonfilled'],\n",
              "      dtype='object')"
            ]
          },
          "execution_count": 4,
          "metadata": {},
          "output_type": "execute_result"
        }
      ],
      "source": [
        "df.columns"
      ]
    },
    {
      "cell_type": "code",
      "execution_count": 5,
      "metadata": {
        "id": "B7eMz5odrXXo"
      },
      "outputs": [],
      "source": [
        "#columns to drop\n",
        "drop_cols = [\n",
        "    \"ListPrice\",\"OriginalListPrice\",\"DaysOnMarket\",\"ListingContractDate\",\n",
        "    \"ContractStatusChangeDate\",\"PurchaseContractDate\",\n",
        "    \"ListAgentAOR\",\"ListAgentEmail\",\"ListAgentFirstName\",\"ListAgentLastName\",\n",
        "    \"ListAgentFullName\",\"CoListAgentFirstName\",\"CoListAgentLastName\",\n",
        "    \"BuyerAgentAOR\",\"BuyerAgentMlsId\",\"BuyerAgentFirstName\",\"BuyerAgentLastName\",\n",
        "    \"CoBuyerAgentFirstName\",\"BuyerOfficeAOR\",\"ListOfficeName\",\"BuyerOfficeName\",\n",
        "    \"CoListOfficeName\",\"MlsStatus\",\"ListingKey\",\"ListingId\",\"ListingKeyNumeric\",\n",
        "    \"AssociationFeeFrequency\", \"MLSAreaMajor\", \"BusinessType\",\"latfilled\",\"lonfilled\"\n",
        "]\n",
        "df = df.drop(columns=[c for c in drop_cols if c in df.columns])"
      ]
    },
    {
      "cell_type": "markdown",
      "metadata": {
        "id": "6TvnKvVHtl1o"
      },
      "source": [
        "**Evaluating Missing values**"
      ]
    },
    {
      "cell_type": "code",
      "execution_count": 6,
      "metadata": {
        "colab": {
          "base_uri": "https://localhost:8080/",
          "height": 1000
        },
        "id": "Q4kkhOx7tIfw",
        "outputId": "9b6ae6ef-2897-425f-ce46-3ae0d005aed2"
      },
      "outputs": [
        {
          "data": {
            "text/plain": [
              "MiddleOrJuniorSchoolDistrict    1.000000\n",
              "CoveredSpaces                   1.000000\n",
              "TaxYear                         1.000000\n",
              "TaxAnnualAmount                 1.000000\n",
              "AboveGradeFinishedArea          1.000000\n",
              "FireplacesTotal                 1.000000\n",
              "ElementarySchoolDistrict        1.000000\n",
              "WaterfrontYN                    0.999500\n",
              "BelowGradeFinishedArea          0.993224\n",
              "BasementYN                      0.975936\n",
              "BuilderName                     0.953167\n",
              "LotSizeDimensions               0.937135\n",
              "BuildingAreaTotal               0.933644\n",
              "ElementarySchool                0.866135\n",
              "MiddleOrJuniorSchool            0.864962\n",
              "HighSchool                      0.824650\n",
              "SubdivisionName                 0.647964\n",
              "MainLevelBedrooms               0.394287\n",
              "Flooring                        0.354363\n",
              "AssociationFee                  0.294427\n",
              "HighSchoolDistrict              0.268566\n",
              "AttachedGarageYN                0.119546\n",
              "Stories                         0.110780\n",
              "ViewYN                          0.090308\n",
              "PoolPrivateYN                   0.080388\n",
              "Levels                          0.076643\n",
              "NewConstructionYN               0.075581\n",
              "GarageSpaces                    0.039811\n",
              "LotSizeAcres                    0.017625\n",
              "LotSizeSquareFeet               0.017625\n",
              "LotSizeArea                     0.017533\n",
              "StreetNumberNumeric             0.001143\n",
              "UnparsedAddress                 0.000939\n",
              "YearBuilt                       0.000755\n",
              "City                            0.000714\n",
              "FireplaceYN                     0.000663\n",
              "LivingArea                      0.000592\n",
              "BathroomsTotalInteger           0.000194\n",
              "Latitude                        0.000061\n",
              "Longitude                       0.000061\n",
              "PostalCode                      0.000010\n",
              "ParkingTotal                    0.000010\n",
              "CloseDate                       0.000000\n",
              "ClosePrice                      0.000000\n",
              "PropertySubType                 0.000000\n",
              "StateOrProvince                 0.000000\n",
              "PropertyType                    0.000000\n",
              "BedroomsTotal                   0.000000\n",
              "CountyOrParish                  0.000000\n",
              "dtype: float64"
            ]
          },
          "execution_count": 6,
          "metadata": {},
          "output_type": "execute_result"
        }
      ],
      "source": [
        "#checking for missing values by column\n",
        "missing_percentage = df.isnull().mean().sort_values(ascending=False)\n",
        "missing_percentage"
      ]
    },
    {
      "cell_type": "code",
      "execution_count": 7,
      "metadata": {
        "colab": {
          "base_uri": "https://localhost:8080/"
        },
        "id": "-SY2aNr-tyvc",
        "outputId": "874220cb-4067-4a55-8852-36217f29abe4"
      },
      "outputs": [
        {
          "data": {
            "text/plain": [
              "['MiddleOrJuniorSchoolDistrict',\n",
              " 'CoveredSpaces',\n",
              " 'TaxYear',\n",
              " 'TaxAnnualAmount',\n",
              " 'AboveGradeFinishedArea',\n",
              " 'FireplacesTotal',\n",
              " 'ElementarySchoolDistrict',\n",
              " 'WaterfrontYN',\n",
              " 'BelowGradeFinishedArea',\n",
              " 'BasementYN',\n",
              " 'BuilderName',\n",
              " 'LotSizeDimensions',\n",
              " 'BuildingAreaTotal',\n",
              " 'ElementarySchool',\n",
              " 'MiddleOrJuniorSchool',\n",
              " 'HighSchool',\n",
              " 'SubdivisionName']"
            ]
          },
          "execution_count": 7,
          "metadata": {},
          "output_type": "execute_result"
        }
      ],
      "source": [
        "cols_to_drop = missing_percentage[missing_percentage > 0.6].index.tolist()\n",
        "cols_to_drop"
      ]
    },
    {
      "cell_type": "code",
      "execution_count": 8,
      "metadata": {
        "id": "_ElhsRDfOR6z"
      },
      "outputs": [],
      "source": [
        "df = df.drop(columns=cols_to_drop, errors = 'ignore')"
      ]
    },
    {
      "cell_type": "markdown",
      "metadata": {
        "id": "GSufdmruWoV5"
      },
      "source": [
        "**NULL VALUE COUNT**"
      ]
    },
    {
      "cell_type": "code",
      "execution_count": 9,
      "metadata": {
        "colab": {
          "base_uri": "https://localhost:8080/",
          "height": 1000
        },
        "id": "V4hxl8Ul8jRH",
        "outputId": "e5055848-4662-4333-b19f-696d6f4ae5ef"
      },
      "outputs": [
        {
          "data": {
            "text/plain": [
              "MainLevelBedrooms        38635\n",
              "Flooring                 34723\n",
              "AssociationFee           28850\n",
              "HighSchoolDistrict       26316\n",
              "AttachedGarageYN         11714\n",
              "Stories                  10855\n",
              "ViewYN                    8849\n",
              "PoolPrivateYN             7877\n",
              "Levels                    7510\n",
              "NewConstructionYN         7406\n",
              "GarageSpaces              3901\n",
              "LotSizeAcres              1727\n",
              "LotSizeSquareFeet         1727\n",
              "LotSizeArea               1718\n",
              "StreetNumberNumeric        112\n",
              "UnparsedAddress             92\n",
              "YearBuilt                   74\n",
              "City                        70\n",
              "FireplaceYN                 65\n",
              "LivingArea                  58\n",
              "BathroomsTotalInteger       19\n",
              "Longitude                    6\n",
              "Latitude                     6\n",
              "ParkingTotal                 1\n",
              "PostalCode                   1\n",
              "StateOrProvince              0\n",
              "BedroomsTotal                0\n",
              "PropertyType                 0\n",
              "CountyOrParish               0\n",
              "ClosePrice                   0\n",
              "CloseDate                    0\n",
              "PropertySubType              0\n",
              "dtype: int64"
            ]
          },
          "execution_count": 9,
          "metadata": {},
          "output_type": "execute_result"
        }
      ],
      "source": [
        "df.isnull().sum().sort_values(ascending=False)"
      ]
    },
    {
      "cell_type": "markdown",
      "metadata": {
        "id": "KxkcIfISW1GG"
      },
      "source": [
        "**DEALING W BOOLEAN NULL VALUES**"
      ]
    },
    {
      "cell_type": "code",
      "execution_count": 10,
      "metadata": {
        "colab": {
          "base_uri": "https://localhost:8080/"
        },
        "id": "toXYWYjU9Qxo",
        "outputId": "6f25db60-a666-4f96-941e-be577b3f7360"
      },
      "outputs": [
        {
          "name": "stderr",
          "output_type": "stream",
          "text": [
            "/var/folders/v9/47dbywsd3kq7y4_mgpqb1kqm0000gn/T/ipykernel_49352/3452942020.py:4: FutureWarning: Downcasting object dtype arrays on .fillna, .ffill, .bfill is deprecated and will change in a future version. Call result.infer_objects(copy=False) instead. To opt-in to the future behavior, set `pd.set_option('future.no_silent_downcasting', True)`\n",
            "  df[bool_cols] = df[bool_cols].fillna(False)\n"
          ]
        }
      ],
      "source": [
        "bool_cols = [\"ViewYN\", \"PoolPrivateYN\", \"AttachedGarageYN\",\n",
        "             \"FireplaceYN\",\"NewConstructionYN\"]\n",
        "\n",
        "df[bool_cols] = df[bool_cols].fillna(False)\n"
      ]
    },
    {
      "cell_type": "markdown",
      "metadata": {
        "id": "2-Rexh5RW5SW"
      },
      "source": [
        "**SEPARATING THE NUM AND CATE COLUMNS**"
      ]
    },
    {
      "cell_type": "code",
      "execution_count": 11,
      "metadata": {
        "colab": {
          "base_uri": "https://localhost:8080/"
        },
        "id": "ovTKZ7PVAMa0",
        "outputId": "aa6859f7-c3cc-425f-c3e5-e172de9cd3bb"
      },
      "outputs": [
        {
          "data": {
            "text/plain": [
              "['Latitude',\n",
              " 'Longitude',\n",
              " 'LivingArea',\n",
              " 'ParkingTotal',\n",
              " 'LotSizeAcres',\n",
              " 'StreetNumberNumeric',\n",
              " 'LotSizeArea',\n",
              " 'AssociationFee',\n",
              " 'LotSizeSquareFeet']"
            ]
          },
          "execution_count": 11,
          "metadata": {},
          "output_type": "execute_result"
        }
      ],
      "source": [
        "num_cols = df.select_dtypes(include=['int64','float64']).columns.tolist()\n",
        "\n",
        "num_as_category = ['YearBuilt', 'Stories', 'GarageSpaces',\n",
        "              'BathroomsTotalInteger', 'BedroomsTotal','MainLevelBedrooms',]\n",
        "\n",
        "numerical_columns = [ col for col in num_cols if col not in num_as_category and col != 'ClosePrice' ]\n",
        "numerical_columns\n"
      ]
    },
    {
      "cell_type": "markdown",
      "metadata": {
        "id": "ET99YiVH5uzV"
      },
      "source": [
        "**SEPARATING TRAIN AND TEST USING CLOSE DATE**"
      ]
    },
    {
      "cell_type": "code",
      "execution_count": 12,
      "metadata": {
        "id": "oWhMgyYg5t_b"
      },
      "outputs": [],
      "source": [
        "df[\"CloseDate\"] = pd.to_datetime(df[\"CloseDate\"], errors=\"coerce\")\n"
      ]
    },
    {
      "cell_type": "code",
      "execution_count": 13,
      "metadata": {
        "colab": {
          "base_uri": "https://localhost:8080/"
        },
        "id": "29NFPFRI7QyT",
        "outputId": "b99631d6-028e-4b61-8d81-bde2ed1457ce"
      },
      "outputs": [
        {
          "name": "stdout",
          "output_type": "stream",
          "text": [
            "datetime64[ns]\n"
          ]
        }
      ],
      "source": [
        "print(df[\"CloseDate\"].dtype)\n"
      ]
    },
    {
      "cell_type": "code",
      "execution_count": 14,
      "metadata": {
        "id": "xyCSi_gW6yfO"
      },
      "outputs": [],
      "source": [
        "mask = (df[\"CloseDate\"].dt.year == 2025) & (df[\"CloseDate\"].dt.month == 9)\n",
        "\n",
        "test_df = df[mask].copy()\n",
        "train_df = df[~mask].copy()"
      ]
    },
    {
      "cell_type": "markdown",
      "metadata": {
        "id": "SDCD9BG3XKPi"
      },
      "source": [
        "**IMPUTATION**"
      ]
    },
    {
      "cell_type": "code",
      "execution_count": 15,
      "metadata": {
        "id": "6nsceMYsVsSF"
      },
      "outputs": [],
      "source": [
        "from sklearn.preprocessing import RobustScaler\n",
        "from sklearn.impute import KNNImputer\n",
        "\n",
        "cols = [\"LivingArea\",\"LotSizeAcres\",\"LotSizeArea\",\"AssociationFee\",\"LotSizeSquareFeet\"]\n",
        "\n",
        "scaler = RobustScaler()\n",
        "imp = KNNImputer(n_neighbors=7, weights=\"distance\")\n",
        "\n",
        "# fit on train\n",
        "X_train = scaler.fit_transform(train_df[cols])\n",
        "X_train_imp = imp.fit_transform(X_train)\n",
        "train_df[cols] = scaler.inverse_transform(X_train_imp)\n",
        "\n",
        "# transform test with same fit\n",
        "X_test = scaler.transform(test_df[cols])\n",
        "X_test_imp = imp.transform(X_test)\n",
        "test_df[cols] = scaler.inverse_transform(X_test_imp)\n",
        "\n"
      ]
    },
    {
      "cell_type": "code",
      "execution_count": 16,
      "metadata": {
        "id": "RayJMMdFcM20"
      },
      "outputs": [],
      "source": [
        "from sklearn.impute import SimpleImputer\n",
        "\n",
        "imputer = SimpleImputer(strategy=\"most_frequent\")\n",
        "\n",
        "train_df[\"Stories\"] = imputer.fit_transform(train_df[[\"Stories\"]]).ravel()\n",
        "\n",
        "test_df[\"Stories\"] = imputer.transform(test_df[[\"Stories\"]]).ravel()\n"
      ]
    },
    {
      "cell_type": "code",
      "execution_count": 17,
      "metadata": {
        "colab": {
          "base_uri": "https://localhost:8080/"
        },
        "id": "-W3KNCobdN4O",
        "outputId": "68784810-bae0-4721-a19f-94328de1254d"
      },
      "outputs": [
        {
          "name": "stderr",
          "output_type": "stream",
          "text": [
            "/var/folders/v9/47dbywsd3kq7y4_mgpqb1kqm0000gn/T/ipykernel_49352/2410216566.py:25: FutureWarning: A value is trying to be set on a copy of a DataFrame or Series through chained assignment using an inplace method.\n",
            "The behavior will change in pandas 3.0. This inplace method will never work because the intermediate object on which we are setting values always behaves as a copy.\n",
            "\n",
            "For example, when doing 'df[col].method(value, inplace=True)', try using 'df.method({col: value}, inplace=True)' or df[col] = df[col].method(value) instead, to perform the operation inplace on the original object.\n",
            "\n",
            "\n",
            "  test_df[\"Levels\"].fillna(mode_val, inplace=True)\n"
          ]
        }
      ],
      "source": [
        "# --- Train ---\n",
        "s_train = pd.to_numeric(train_df[\"Stories\"], errors=\"coerce\")\n",
        "fill_train = s_train.map({1: \"One\", 2: \"Two\"})\n",
        "\n",
        "miss_train = train_df[\"Levels\"].isna()\n",
        "train_df.loc[miss_train, \"Levels\"] = fill_train[miss_train]\n",
        "\n",
        "# fallback to mode from train only\n",
        "if train_df[\"Levels\"].isna().any():\n",
        "    mode_val = train_df[\"Levels\"].dropna().mode().iloc[0]\n",
        "    train_df[\"Levels\"].fillna(mode_val, inplace=True)\n",
        "else:\n",
        "    mode_val = train_df[\"Levels\"].dropna().mode().iloc[0]\n",
        "\n",
        "train_df[\"Levels\"] = train_df[\"Levels\"].astype(\"category\")\n",
        "\n",
        "# --- Test ---\n",
        "s_test = pd.to_numeric(test_df[\"Stories\"], errors=\"coerce\")\n",
        "fill_test = s_test.map({1: \"One\", 2: \"Two\"})\n",
        "\n",
        "miss_test = test_df[\"Levels\"].isna()\n",
        "test_df.loc[miss_test, \"Levels\"] = fill_test[miss_test]\n",
        "\n",
        "# use mode derived from train_df\n",
        "test_df[\"Levels\"].fillna(mode_val, inplace=True)\n",
        "test_df[\"Levels\"] = test_df[\"Levels\"].astype(\"category\")\n"
      ]
    },
    {
      "cell_type": "code",
      "execution_count": 18,
      "metadata": {
        "id": "Mf0CzBLvE21k"
      },
      "outputs": [],
      "source": [
        "from sklearn.impute import SimpleImputer\n",
        "\n",
        "num_cols = [\"YearBuilt\", \"BathroomsTotalInteger\", \"BedroomsTotal\",\n",
        "            \"ParkingTotal\", \"MainLevelBedrooms\", \"GarageSpaces\"]\n",
        "\n",
        "num_imputer = SimpleImputer(strategy=\"median\")\n",
        "\n",
        "# fit only on train\n",
        "train_df[num_cols] = num_imputer.fit_transform(train_df[num_cols])\n",
        "test_df[num_cols]  = num_imputer.transform(test_df[num_cols])\n",
        "\n",
        "# round and cast\n",
        "for c in num_cols:\n",
        "    train_df[c] = train_df[c].round().astype(\"Int64\")\n",
        "    test_df[c]  = test_df[c].round().astype(\"Int64\")\n"
      ]
    },
    {
      "cell_type": "code",
      "execution_count": 19,
      "metadata": {
        "id": "8_CyoJkJjAjC"
      },
      "outputs": [],
      "source": [
        "train_df = train_df.dropna(subset=[\"StreetNumberNumeric\",\"Latitude\",\"Longitude\",\"UnparsedAddress\",\"City\",\"PostalCode\"]).copy()\n",
        "test_df = test_df.dropna(subset=[\"StreetNumberNumeric\",\"Latitude\",\"Longitude\",\"UnparsedAddress\",\"City\",\"PostalCode\"]).copy()\n"
      ]
    },
    {
      "cell_type": "code",
      "execution_count": 20,
      "metadata": {
        "id": "BwxwLyjRjt17"
      },
      "outputs": [],
      "source": [
        "# 1 if a non-empty, non-\"other\" value; 0 if NaN/blank/\"other\"\n",
        "s = df[\"HighSchoolDistrict\"].astype(\"string\").str.strip()\n",
        "\n",
        "is_name = (\n",
        "    s.notna()\n",
        "    & (s != \"\")\n",
        "    & ~s.str.fullmatch(r\"(?i)(other|none|n/?a|na|null|unknown)\")\n",
        ")\n",
        "\n",
        "train_df[\"HighSchoolDistrict\"] = is_name.astype(\"int8\")\n",
        "test_df[\"HighSchoolDistrict\"] = is_name.astype(\"int8\")\n"
      ]
    },
    {
      "cell_type": "code",
      "execution_count": 21,
      "metadata": {
        "id": "knhm-ZHplefa"
      },
      "outputs": [],
      "source": [
        "from sklearn.preprocessing import MultiLabelBinarizer\n",
        "\n",
        "materials = [\"Bamboo\",\"Brick\",\"Carpet\",\"Concrete\",\"Laminate\",\"Stone\",\"Tile\",\"Vinyl\",\"Wood\"]\n",
        "\n",
        "def parse_flooring(s):\n",
        "    if pd.isna(s):\n",
        "        return []\n",
        "    toks = [t.strip().title() for t in str(s).split(\",\") if t.strip()]\n",
        "    bad = {\"Seeremarks\",\"See Remarks\",\"See-Remarks\"}\n",
        "    return [t for t in toks if t not in bad]\n",
        "\n",
        "# --- train ---\n",
        "lists_train = train_df[\"Flooring\"].map(parse_flooring)\n",
        "mlb = MultiLabelBinarizer(classes=materials)\n",
        "X_train = mlb.fit_transform(lists_train)\n",
        "train_df[materials] = pd.DataFrame(X_train, index=train_df.index, columns=materials).astype(\"int8\")\n",
        "\n",
        "# --- test ---\n",
        "lists_test = test_df[\"Flooring\"].map(parse_flooring)\n",
        "X_test = mlb.transform(lists_test)\n",
        "test_df[materials] = pd.DataFrame(X_test, index=test_df.index, columns=materials).astype(\"int8\")\n"
      ]
    },
    {
      "cell_type": "markdown",
      "metadata": {
        "id": "Wbmi5aTZLSQ7"
      },
      "source": [
        "----------train and testing-------------"
      ]
    },
    {
      "cell_type": "code",
      "execution_count": 22,
      "metadata": {
        "id": "k2493fCiLYKA"
      },
      "outputs": [],
      "source": [
        "import numpy as np\n",
        "from sklearn.model_selection import train_test_split\n",
        "\n",
        "target = \"ClosePrice\"\n",
        "\n",
        "# features from train\n",
        "num_cols = train_df.select_dtypes(include=[np.number]).columns.drop(target, errors=\"ignore\").tolist()\n",
        "\n",
        "# cutoffs from train (0.5% tails)\n",
        "y_tr_all = pd.to_numeric(train_df[target], errors=\"coerce\")\n",
        "lo, hi = y_tr_all.quantile([0.005, 0.995])\n",
        "\n",
        "# trim train\n",
        "train_trim = train_df[(y_tr_all >= lo) & (y_tr_all <= hi)].copy()\n",
        "\n",
        "# trim test using same cutoffs\n",
        "y_te_all = pd.to_numeric(test_df[target], errors=\"coerce\")\n",
        "test_trim = test_df[(y_te_all >= lo) & (y_te_all <= hi)].copy()\n",
        "\n",
        "# train/valid split\n",
        "X = train_trim[num_cols].astype(\"float32\")\n",
        "y = pd.to_numeric(train_trim[target], errors=\"coerce\").astype(\"float32\")\n",
        "X_tr, X_va, y_tr, y_va = train_test_split(X, y, test_size=0.2, random_state=42)\n",
        "\n",
        "# test matrices\n",
        "X_test = test_trim.reindex(columns=num_cols, fill_value=0).astype(\"float32\")\n",
        "y_test = pd.to_numeric(test_trim[target], errors=\"coerce\").astype(\"float32\")\n"
      ]
    },
    {
      "cell_type": "code",
      "execution_count": 23,
      "metadata": {
        "id": "XrXAmAiBLYKC"
      },
      "outputs": [],
      "source": [
        "from xgboost import XGBRegressor\n",
        "\n",
        "# Generalist\n",
        "xgbr = XGBRegressor(\n",
        "    n_estimators=1200, learning_rate=0.03,\n",
        "    max_depth=6, min_child_weight=5,\n",
        "    subsample=0.8, colsample_bytree=0.8,\n",
        "    reg_lambda=2.0, reg_alpha=0.0, gamma=0.0,\n",
        "    objective=\"reg:squarederror\", tree_method=\"hist\",\n",
        "    n_jobs=-1, random_state=42\n",
        ")\n"
      ]
    },
    {
      "cell_type": "code",
      "execution_count": 24,
      "metadata": {
        "id": "KtiFhZF8LYKC"
      },
      "outputs": [],
      "source": [
        "xgbr.fit(X_tr, y_tr)\n",
        "pred_va = xgbr.predict(X_va)"
      ]
    },
    {
      "cell_type": "code",
      "execution_count": 35,
      "metadata": {},
      "outputs": [],
      "source": [
        "import pickle\n",
        "\n",
        "with open(\"xgb_model.pkl\", \"wb\") as f:\n",
        "    pickle.dump(xgbr, f)"
      ]
    },
    {
      "cell_type": "code",
      "execution_count": 25,
      "metadata": {
        "colab": {
          "base_uri": "https://localhost:8080/"
        },
        "id": "I4plw_NCLYKC",
        "outputId": "1f08615d-a205-4fde-c84b-ceb5e2d92b9b"
      },
      "outputs": [
        {
          "name": "stdout",
          "output_type": "stream",
          "text": [
            "R2 Score 0.8792411088943481\n"
          ]
        }
      ],
      "source": [
        "from sklearn import metrics\n",
        "print('R2 Score',metrics.r2_score(y_va,pred_va))"
      ]
    },
    {
      "cell_type": "code",
      "execution_count": 26,
      "metadata": {
        "colab": {
          "base_uri": "https://localhost:8080/"
        },
        "id": "tMSk4d1SLYKD",
        "outputId": "02bef4ee-e9fe-474b-87fa-fdecfb29d9cf"
      },
      "outputs": [
        {
          "name": "stdout",
          "output_type": "stream",
          "text": [
            "MAPE: 0.1512\n"
          ]
        }
      ],
      "source": [
        "from sklearn.metrics import mean_absolute_percentage_error\n",
        "mape = mean_absolute_percentage_error(y_va, pred_va)\n",
        "\n",
        "print(f'MAPE: {mape:.4f}')\n"
      ]
    },
    {
      "cell_type": "code",
      "execution_count": 27,
      "metadata": {
        "colab": {
          "base_uri": "https://localhost:8080/"
        },
        "id": "VQKc5JnJLYKD",
        "outputId": "7121d760-1f08-4cb5-fae2-61ca7566fee4"
      },
      "outputs": [
        {
          "name": "stdout",
          "output_type": "stream",
          "text": [
            "Median Absolute Percentage Error (MdAPE): 10.30%\n"
          ]
        }
      ],
      "source": [
        "def calculate_mdape(y_true, y_pred):\n",
        "    \"\"\"Calculates the Median Absolute Percentage Error (MdAPE).\"\"\"\n",
        "    # Exclude cases where the actual value is zero to avoid division by zero\n",
        "    non_zero_indices = y_true != 0\n",
        "    y_true_filtered = y_true[non_zero_indices]\n",
        "    y_pred_filtered = y_pred[non_zero_indices]\n",
        "\n",
        "    # Calculate Absolute Percentage Error (APE)\n",
        "    ape = np.abs((y_true_filtered - y_pred_filtered) / y_true_filtered)\n",
        "\n",
        "    # Return the median of the APE\n",
        "    return np.median(ape) * 100 # Return as a percentage\n",
        "\n",
        "# Calculate and print the MdAPE\n",
        "mdape_score = calculate_mdape(y_va, pred_va)\n",
        "print(f\"Median Absolute Percentage Error (MdAPE): {mdape_score:.2f}%\")"
      ]
    },
    {
      "cell_type": "code",
      "execution_count": 28,
      "metadata": {
        "colab": {
          "base_uri": "https://localhost:8080/"
        },
        "id": "lO6Nfk_n2on6",
        "outputId": "dd2d8426-3bde-4c1a-d81f-c9a9ee87eb7a"
      },
      "outputs": [
        {
          "data": {
            "text/plain": [
              "[(0.22058003, 'BathroomsTotalInteger'),\n",
              " (0.16582355, 'Wood'),\n",
              " (0.14416952, 'LivingArea'),\n",
              " (0.069175676, 'Latitude'),\n",
              " (0.06584342, 'Longitude'),\n",
              " (0.054513514, 'Laminate'),\n",
              " (0.03313164, 'HighSchoolDistrict'),\n",
              " (0.027337175, 'AssociationFee'),\n",
              " (0.025517944, 'YearBuilt'),\n",
              " (0.021506663, 'BedroomsTotal'),\n",
              " (0.020394567, 'Carpet'),\n",
              " (0.020193515, 'StreetNumberNumeric'),\n",
              " (0.019586358, 'Stories'),\n",
              " (0.014848416, 'Stone'),\n",
              " (0.012796454, 'GarageSpaces'),\n",
              " (0.012575487, 'MainLevelBedrooms'),\n",
              " (0.01252052, 'LotSizeSquareFeet'),\n",
              " (0.011409718, 'LotSizeAcres'),\n",
              " (0.010214529, 'Concrete'),\n",
              " (0.0092400685, 'LotSizeArea')]"
            ]
          },
          "execution_count": 28,
          "metadata": {},
          "output_type": "execute_result"
        }
      ],
      "source": [
        "importances = xgbr.feature_importances_\n",
        "sorted(zip(importances, num_cols), reverse=True)[:20]\n"
      ]
    },
    {
      "cell_type": "code",
      "execution_count": 37,
      "metadata": {},
      "outputs": [],
      "source": [
        "artifacts = {\n",
        "    \"NUM_COLS\": num_cols,          # final numeric feature list used to train XGB\n",
        "    \"MODE_LEVELS\": mode_val,       # if you still use it anywhere\n",
        "    \"KNN_COLS\": [\"LivingArea\",\"LotSizeAcres\",\"LotSizeArea\",\"AssociationFee\",\"LotSizeSquareFeet\"],\n",
        "    \"NUM_BLOCK\": [\"YearBuilt\",\"BathroomsTotalInteger\",\"BedroomsTotal\",\"ParkingTotal\",\"MainLevelBedrooms\",\"GarageSpaces\"]\n",
        "}\n",
        "with open(\"xgb_model.pkl\",\"wb\") as f: pickle.dump(xgbr,f)\n",
        "with open(\"num_imputer.pkl\",\"wb\") as f: pickle.dump(num_imputer,f)\n",
        "with open(\"scaler.pkl\",\"wb\") as f: pickle.dump(scaler,f)\n",
        "with open(\"knn_imp.pkl\",\"wb\") as f: pickle.dump(imp,f)\n",
        "with open(\"artifacts.pkl\",\"wb\") as f: pickle.dump(artifacts,f)"
      ]
    },
    {
      "cell_type": "markdown",
      "metadata": {
        "id": "awI7C8rvVXDO"
      },
      "source": [
        "----------TF_DF---------------"
      ]
    },
    {
      "cell_type": "code",
      "execution_count": 30,
      "metadata": {},
      "outputs": [],
      "source": [
        "!pip install -q tensorflow tensorflow-decision-forests"
      ]
    },
    {
      "cell_type": "code",
      "execution_count": 31,
      "metadata": {
        "colab": {
          "base_uri": "https://localhost:8080/",
          "height": 561
        },
        "id": "70Vwf5szVZHR",
        "outputId": "080c81e2-9d9b-491f-c10f-6b4e02a3777e"
      },
      "outputs": [
        {
          "data": {
            "text/html": [
              "\n",
              "<p style=\"margin:0px;\">🌲 Try <a href=\"https://ydf.readthedocs.io/en/latest/\" target=\"_blank\">YDF</a>, the successor of\n",
              "    <a href=\"https://www.tensorflow.org/decision_forests\" target=\"_blank\">TensorFlow\n",
              "        Decision Forests</a> using the same algorithms but with more features and faster\n",
              "    training!\n",
              "</p>\n",
              "<div style=\"display: flex; flex-wrap: wrap; margin:5px;max-width: 880px;\">\n",
              "    <div style=\"flex: 1; border-radius: 10px; background-color: F0F0F0; padding: 5px;\">\n",
              "        <p\n",
              "            style=\"font-weight: bold; margin:0px;text-align: center;border-bottom: 1px solid #C0C0C0;margin-bottom: 4px;\">\n",
              "            Old code</p>\n",
              "        <pre style=\"overflow-wrap: anywhere; overflow: auto; margin:0px;font-size: 9pt;\">\n",
              "import tensorflow_decision_forests as tfdf\n",
              "\n",
              "tf_ds = tfdf.keras.pd_dataframe_to_tf_dataset(ds, label=\"l\")\n",
              "model = tfdf.keras.RandomForestModel(label=\"l\")\n",
              "model.fit(tf_ds)\n",
              "</pre>\n",
              "    </div>\n",
              "    <div style=\"width: 5px;\"></div>\n",
              "    <div style=\"flex: 1; border-radius: 10px; background-color: F0F0F0; padding: 5px;\">\n",
              "        <p\n",
              "            style=\"font-weight: bold; margin:0px;text-align: center;border-bottom: 1px solid #C0C0C0;margin-bottom: 4px;\">\n",
              "            New code</p>\n",
              "        <pre style=\"overflow-wrap: anywhere; overflow: auto; margin:0px;font-size: 9pt;\">\n",
              "import ydf\n",
              "\n",
              "model = ydf.RandomForestLearner(label=\"l\").train(ds)\n",
              "</pre>\n",
              "    </div>\n",
              "</div>\n",
              "<p style=\"margin:0px;font-size: 9pt;\">(Learn more in the <a\n",
              "        href=\"https://ydf.readthedocs.io/en/latest/tutorial/migrating_to_ydf/\" target=\"_blank\">migration\n",
              "        guide</a>)</p>\n"
            ],
            "text/plain": [
              "<IPython.core.display.HTML object>"
            ]
          },
          "metadata": {},
          "output_type": "display_data"
        },
        {
          "name": "stdout",
          "output_type": "stream",
          "text": [
            "Use /var/folders/v9/47dbywsd3kq7y4_mgpqb1kqm0000gn/T/tmp1uxvfr0k as temporary training directory\n"
          ]
        },
        {
          "name": "stderr",
          "output_type": "stream",
          "text": [
            "WARNING: All log messages before absl::InitializeLog() is called are written to STDERR\n",
            "W0000 00:00:1760645637.413686 21445973 gradient_boosted_trees.cc:1873] \"goss_alpha\" set but \"sampling_method\" not equal to \"GOSS\".\n",
            "W0000 00:00:1760645637.413750 21445973 gradient_boosted_trees.cc:1883] \"goss_beta\" set but \"sampling_method\" not equal to \"GOSS\".\n",
            "W0000 00:00:1760645637.413751 21445973 gradient_boosted_trees.cc:1897] \"selective_gradient_boosting_ratio\" set but \"sampling_method\" not equal to \"SELGB\".\n"
          ]
        },
        {
          "name": "stdout",
          "output_type": "stream",
          "text": [
            "Num validation examples: tf.Tensor(17100, shape=(), dtype=int32)\n"
          ]
        },
        {
          "name": "stderr",
          "output_type": "stream",
          "text": [
            "I0000 00:00:1760645639.888081 21445973 kernel.cc:782] Start Yggdrasil model training\n",
            "I0000 00:00:1760645639.888105 21445973 kernel.cc:783] Collect training examples\n",
            "I0000 00:00:1760645639.888113 21445973 kernel.cc:795] Dataspec guide:\n",
            "column_guides {\n",
            "  column_name_pattern: \"^__LABEL$\"\n",
            "  type: NUMERICAL\n",
            "}\n",
            "default_column_guide {\n",
            "  categorial {\n",
            "    max_vocab_count: 2000\n",
            "  }\n",
            "  discretized_numerical {\n",
            "    maximum_num_bins: 255\n",
            "  }\n",
            "}\n",
            "ignore_columns_without_guides: false\n",
            "detect_numerical_as_discretized_numerical: false\n",
            "\n",
            "I0000 00:00:1760645639.888478 21445973 kernel.cc:401] Number of batches: 69\n",
            "I0000 00:00:1760645639.888484 21445973 kernel.cc:402] Number of examples: 68400\n",
            "I0000 00:00:1760645639.901631 21445973 kernel.cc:802] Training dataset:\n",
            "Number of records: 68400\n",
            "Number of columns: 26\n",
            "\n",
            "Number of columns by type:\n",
            "\tNUMERICAL: 26 (100%)\n",
            "\n",
            "Columns:\n",
            "\n",
            "NUMERICAL: 26 (100%)\n",
            "\t0: \"AssociationFee\" NUMERICAL mean:121.049 min:0 max:13000 sd:260.519\n",
            "\t1: \"Bamboo\" NUMERICAL mean:0.00400585 min:0 max:1 sd:0.0631649\n",
            "\t2: \"BathroomsTotalInteger\" NUMERICAL mean:2.61164 min:0 max:45 sd:1.09428\n",
            "\t3: \"BedroomsTotal\" NUMERICAL mean:3.47918 min:0 max:45 sd:0.963154\n",
            "\t4: \"Brick\" NUMERICAL mean:0.000979532 min:0 max:1 sd:0.0312821\n",
            "\t5: \"Carpet\" NUMERICAL mean:0.297208 min:0 max:1 sd:0.457029\n",
            "\t6: \"Concrete\" NUMERICAL mean:0.0094883 min:0 max:1 sd:0.0969447\n",
            "\t7: \"GarageSpaces\" NUMERICAL mean:2.00765 min:0 max:500 sd:3.37567\n",
            "\t8: \"HighSchoolDistrict\" NUMERICAL mean:0.67117 min:0 max:1 sd:0.469788\n",
            "\t9: \"Laminate\" NUMERICAL mean:0.17598 min:0 max:1 sd:0.380803\n",
            "\t10: \"Latitude\" NUMERICAL mean:34.7279 min:0 max:41.7114 sd:1.71855\n",
            "\t11: \"LivingArea\" NUMERICAL mean:2021.75 min:0 max:13737 sd:946.351\n",
            "\t12: \"Longitude\" NUMERICAL mean:-118.619 min:-124.193 max:117.31 sd:2.39042\n",
            "\t13: \"LotSizeAcres\" NUMERICAL mean:9.62683 min:-2.77556e-17 max:68393 sd:599.653\n",
            "\t14: \"LotSizeArea\" NUMERICAL mean:18173.6 min:0 max:4.37909e+07 sd:259084\n",
            "\t15: \"LotSizeSquareFeet\" NUMERICAL mean:195507 min:0 max:2.08722e+09 sd:1.18191e+07\n",
            "\t16: \"MainLevelBedrooms\" NUMERICAL mean:2.56311 min:0 max:444 sd:2.05183\n",
            "\t17: \"ParkingTotal\" NUMERICAL mean:3.25795 min:-143 max:15720 sd:71.8785\n",
            "\t18: \"Stone\" NUMERICAL mean:0.0277047 min:0 max:1 sd:0.164125\n",
            "\t19: \"Stories\" NUMERICAL mean:1.31118 min:1 max:2 sd:0.462978\n",
            "\t20: \"StreetNumberNumeric\" NUMERICAL mean:10288.7 min:0 max:1.24012e+07 sd:49538\n",
            "\t21: \"Tile\" NUMERICAL mean:0.323041 min:0 max:1 sd:0.467638\n",
            "\t22: \"Vinyl\" NUMERICAL mean:0.111637 min:0 max:1 sd:0.31492\n",
            "\t23: \"Wood\" NUMERICAL mean:0.252778 min:0 max:1 sd:0.434605\n",
            "\t24: \"YearBuilt\" NUMERICAL mean:1975.75 min:1800 max:2026 sd:27.4619\n",
            "\t25: \"__LABEL\" NUMERICAL mean:1.2064e+06 min:190000 max:8.5e+06 sd:973852\n",
            "\n",
            "Terminology:\n",
            "\tnas: Number of non-available (i.e. missing) values.\n",
            "\tood: Out of dictionary.\n",
            "\tmanually-defined: Attribute whose type is manually defined by the user, i.e., the type was not automatically inferred.\n",
            "\ttokenized: The attribute value is obtained through tokenization.\n",
            "\thas-dict: The attribute is attached to a string dictionary e.g. a categorical attribute stored as a string.\n",
            "\tvocab-size: Number of unique values.\n",
            "\n",
            "I0000 00:00:1760645639.901705 21445973 kernel.cc:807] Collect validation dataset\n",
            "I0000 00:00:1760645639.901791 21445973 kernel.cc:401] Number of batches: 18\n",
            "I0000 00:00:1760645639.901802 21445973 kernel.cc:402] Number of examples: 17100\n",
            "I0000 00:00:1760645639.905334 21445973 kernel.cc:813] Validation dataset:\n",
            "Number of records: 17100\n",
            "Number of columns: 26\n",
            "\n",
            "Number of columns by type:\n",
            "\tNUMERICAL: 26 (100%)\n",
            "\n",
            "Columns:\n",
            "\n",
            "NUMERICAL: 26 (100%)\n",
            "\t0: \"AssociationFee\" NUMERICAL mean:121.507 min:0 max:14129 sd:268.235\n",
            "\t1: \"Bamboo\" NUMERICAL mean:0.00397661 min:0 max:1 sd:0.0629348\n",
            "\t2: \"BathroomsTotalInteger\" NUMERICAL mean:2.61942 min:0 max:25 sd:1.09291\n",
            "\t3: \"BedroomsTotal\" NUMERICAL mean:3.48538 min:0 max:12 sd:0.940864\n",
            "\t4: \"Brick\" NUMERICAL mean:0.000877193 min:0 max:1 sd:0.0296045\n",
            "\t5: \"Carpet\" NUMERICAL mean:0.299474 min:0 max:1 sd:0.458028\n",
            "\t6: \"Concrete\" NUMERICAL mean:0.00777778 min:0 max:1 sd:0.0878481\n",
            "\t7: \"GarageSpaces\" NUMERICAL mean:1.99585 min:0 max:22 sd:0.908784\n",
            "\t8: \"HighSchoolDistrict\" NUMERICAL mean:0.667661 min:0 max:1 sd:0.471052\n",
            "\t9: \"Laminate\" NUMERICAL mean:0.177661 min:0 max:1 sd:0.382227\n",
            "\t10: \"Latitude\" NUMERICAL mean:34.7216 min:0 max:41.8947 sd:1.7093\n",
            "\t11: \"LivingArea\" NUMERICAL mean:2031.27 min:0 max:12711 sd:951.988\n",
            "\t12: \"Longitude\" NUMERICAL mean:-118.581 min:-123.813 max:329 sd:4.38305\n",
            "\t13: \"LotSizeAcres\" NUMERICAL mean:9.307 min:0 max:63598 sd:598.227\n",
            "\t14: \"LotSizeArea\" NUMERICAL mean:28875.7 min:0 max:2.178e+08 sd:1.66807e+06\n",
            "\t15: \"LotSizeSquareFeet\" NUMERICAL mean:220403 min:0 max:1.82159e+09 sd:1.48265e+07\n",
            "\t16: \"MainLevelBedrooms\" NUMERICAL mean:2.56544 min:0 max:32 sd:1.16598\n",
            "\t17: \"ParkingTotal\" NUMERICAL mean:3.02392 min:-35 max:2065 sd:17.9278\n",
            "\t18: \"Stone\" NUMERICAL mean:0.03 min:0 max:1 sd:0.170587\n",
            "\t19: \"Stories\" NUMERICAL mean:1.31409 min:1 max:2 sd:0.464154\n",
            "\t20: \"StreetNumberNumeric\" NUMERICAL mean:11366.2 min:0 max:1.05896e+07 sd:113062\n",
            "\t21: \"Tile\" NUMERICAL mean:0.325906 min:0 max:1 sd:0.468713\n",
            "\t22: \"Vinyl\" NUMERICAL mean:0.112632 min:0 max:1 sd:0.316142\n",
            "\t23: \"Wood\" NUMERICAL mean:0.254327 min:0 max:1 sd:0.435483\n",
            "\t24: \"YearBuilt\" NUMERICAL mean:1975.83 min:1867 max:2026 sd:27.5382\n",
            "\t25: \"__LABEL\" NUMERICAL mean:1.21498e+06 min:190000 max:8.5e+06 sd:984517\n",
            "\n",
            "Terminology:\n",
            "\tnas: Number of non-available (i.e. missing) values.\n",
            "\tood: Out of dictionary.\n",
            "\tmanually-defined: Attribute whose type is manually defined by the user, i.e., the type was not automatically inferred.\n",
            "\ttokenized: The attribute value is obtained through tokenization.\n",
            "\thas-dict: The attribute is attached to a string dictionary e.g. a categorical attribute stored as a string.\n",
            "\tvocab-size: Number of unique values.\n",
            "\n",
            "I0000 00:00:1760645639.905361 21445973 kernel.cc:818] Configure learner\n",
            "W0000 00:00:1760645639.905508 21445973 gradient_boosted_trees.cc:1873] \"goss_alpha\" set but \"sampling_method\" not equal to \"GOSS\".\n",
            "W0000 00:00:1760645639.905513 21445973 gradient_boosted_trees.cc:1883] \"goss_beta\" set but \"sampling_method\" not equal to \"GOSS\".\n",
            "W0000 00:00:1760645639.905514 21445973 gradient_boosted_trees.cc:1897] \"selective_gradient_boosting_ratio\" set but \"sampling_method\" not equal to \"SELGB\".\n",
            "I0000 00:00:1760645639.905589 21445973 kernel.cc:831] Training config:\n",
            "learner: \"GRADIENT_BOOSTED_TREES\"\n",
            "features: \"^AssociationFee$\"\n",
            "features: \"^Bamboo$\"\n",
            "features: \"^BathroomsTotalInteger$\"\n",
            "features: \"^BedroomsTotal$\"\n",
            "features: \"^Brick$\"\n",
            "features: \"^Carpet$\"\n",
            "features: \"^Concrete$\"\n",
            "features: \"^GarageSpaces$\"\n",
            "features: \"^HighSchoolDistrict$\"\n",
            "features: \"^Laminate$\"\n",
            "features: \"^Latitude$\"\n",
            "features: \"^LivingArea$\"\n",
            "features: \"^Longitude$\"\n",
            "features: \"^LotSizeAcres$\"\n",
            "features: \"^LotSizeArea$\"\n",
            "features: \"^LotSizeSquareFeet$\"\n",
            "features: \"^MainLevelBedrooms$\"\n",
            "features: \"^ParkingTotal$\"\n",
            "features: \"^Stone$\"\n",
            "features: \"^Stories$\"\n",
            "features: \"^StreetNumberNumeric$\"\n",
            "features: \"^Tile$\"\n",
            "features: \"^Vinyl$\"\n",
            "features: \"^Wood$\"\n",
            "features: \"^YearBuilt$\"\n",
            "label: \"^__LABEL$\"\n",
            "task: REGRESSION\n",
            "random_seed: 42\n",
            "metadata {\n",
            "  framework: \"TF Keras\"\n",
            "}\n",
            "pure_serving_model: false\n",
            "[yggdrasil_decision_forests.model.gradient_boosted_trees.proto.gradient_boosted_trees_config] {\n",
            "  num_trees: 1000\n",
            "  decision_tree {\n",
            "    max_depth: 6\n",
            "    min_examples: 5\n",
            "    in_split_min_examples_check: true\n",
            "    keep_non_leaf_label_distribution: true\n",
            "    num_candidate_attributes: -1\n",
            "    missing_value_policy: GLOBAL_IMPUTATION\n",
            "    allow_na_conditions: false\n",
            "    categorical_set_greedy_forward {\n",
            "      sampling: 0.1\n",
            "      max_num_items: -1\n",
            "      min_item_frequency: 1\n",
            "    }\n",
            "    growing_strategy_local {\n",
            "    }\n",
            "    categorical {\n",
            "      cart {\n",
            "      }\n",
            "    }\n",
            "    axis_aligned_split {\n",
            "    }\n",
            "    internal {\n",
            "      sorting_strategy: PRESORTED\n",
            "    }\n",
            "    uplift {\n",
            "      min_examples_in_treatment: 5\n",
            "      split_score: KULLBACK_LEIBLER\n",
            "    }\n",
            "    numerical_vector_sequence {\n",
            "      max_num_test_examples: 1000\n",
            "      num_random_selected_anchors: 100\n",
            "    }\n",
            "  }\n",
            "  shrinkage: 0.03\n",
            "  loss: DEFAULT\n",
            "  validation_set_ratio: 0.1\n",
            "  validation_interval_in_trees: 1\n",
            "  early_stopping: VALIDATION_LOSS_INCREASE\n",
            "  early_stopping_num_trees_look_ahead: 30\n",
            "  l2_regularization: 1\n",
            "  lambda_loss: 1\n",
            "  mart {\n",
            "  }\n",
            "  adapt_subsample_for_maximum_training_duration: false\n",
            "  l1_regularization: 0\n",
            "  use_hessian_gain: false\n",
            "  l2_regularization_categorical: 1\n",
            "  xe_ndcg {\n",
            "    ndcg_truncation: 5\n",
            "  }\n",
            "  stochastic_gradient_boosting {\n",
            "    ratio: 0.8\n",
            "  }\n",
            "  apply_link_function: true\n",
            "  compute_permutation_variable_importance: false\n",
            "  early_stopping_initial_iteration: 10\n",
            "}\n",
            "\n",
            "I0000 00:00:1760645639.905802 21445973 kernel.cc:834] Deployment config:\n",
            "cache_path: \"/var/folders/v9/47dbywsd3kq7y4_mgpqb1kqm0000gn/T/tmp1uxvfr0k/working_cache\"\n",
            "num_threads: 8\n",
            "try_resume_training: true\n",
            "\n",
            "I0000 00:00:1760645639.905920 21448903 kernel.cc:895] Train model\n",
            "I0000 00:00:1760645639.906117 21448903 gradient_boosted_trees.cc:577] Default loss set to SQUARED_ERROR\n",
            "I0000 00:00:1760645639.906148 21448903 gradient_boosted_trees.cc:1190] Training gradient boosted tree on 68400 example(s) and 25 feature(s).\n",
            "I0000 00:00:1760645639.906256 21448903 gradient_boosted_trees.cc:1230] 68400 examples used for training and 17100 examples used for validation\n",
            "I0000 00:00:1760645639.923230 21448903 gpu.cc:93] Cannot initialize GPU: Not compiled with GPU support\n",
            "I0000 00:00:1760645639.970611 21448903 gradient_boosted_trees.cc:1632] Train tree 1/1000 train-loss:958215.250000 train-rmse:958215.250000 valid-loss:969107.187500 valid-rmse:969107.187500 [total:0.05s iter:0.05s]\n",
            "I0000 00:00:1760645640.027355 21448903 gradient_boosted_trees.cc:1632] Train tree 2/1000 train-loss:942539.562500 train-rmse:942539.562500 valid-loss:953392.625000 valid-rmse:953392.625000 [total:0.10s iter:0.06s]\n",
            "I0000 00:00:1760645640.079338 21448903 gradient_boosted_trees.cc:1634] Train tree 3/1000 train-loss:928510.250000 train-rmse:928510.250000 valid-loss:939546.937500 valid-rmse:939546.937500 [total:0.16s iter:0.05s]\n",
            "I0000 00:00:1760645660.097457 21448903 gradient_boosted_trees.cc:1634] Train tree 867/1000 train-loss:309454.250000 train-rmse:309454.250000 valid-loss:363860.843750 valid-rmse:363860.843750 [total:20.17s iter:0.02s]\n",
            "I0000 00:00:1760645663.207022 21448903 gradient_boosted_trees.cc:1632] Train tree 1000/1000 train-loss:300348.625000 train-rmse:300348.625000 valid-loss:359568.781250 valid-rmse:359568.781250 [total:23.28s iter:0.01s]\n",
            "I0000 00:00:1760645663.207042 21448903 gradient_boosted_trees.cc:1669] Create final snapshot of the model at iteration 1000\n",
            "I0000 00:00:1760645663.229316 21448903 gradient_boosted_trees.cc:279] Truncates the model to 997 tree(s) i.e. 997  iteration(s).\n",
            "I0000 00:00:1760645663.229397 21448903 gradient_boosted_trees.cc:341] Final model num-trees:997 valid-loss:359536.343750 valid-rmse:359536.343750\n",
            "I0000 00:00:1760645663.240140 21448903 kernel.cc:926] Export model in log directory: /var/folders/v9/47dbywsd3kq7y4_mgpqb1kqm0000gn/T/tmp1uxvfr0k with prefix f654d88f416c4be5\n",
            "I0000 00:00:1760645663.254875 21448903 kernel.cc:944] Save model in resources\n",
            "I0000 00:00:1760645663.256760 21445973 abstract_model.cc:921] Model self evaluation:\n",
            "Number of predictions (with weights): 1\n",
            "Task: REGRESSION\n",
            "Loss (SQUARED_ERROR): 359536\n",
            "\n",
            "RMSE: 599.614\n",
            "Default RMSE: : 0\n",
            "\n",
            "2025-10-16 16:14:23.275411: I tensorflow_decision_forests/tensorflow/ops/inference/kernel.cc:1206] Loading model from path /var/folders/v9/47dbywsd3kq7y4_mgpqb1kqm0000gn/T/tmp1uxvfr0k/model/ with prefix f654d88f416c4be5\n",
            "WARNING: All log messages before absl::InitializeLog() is called are written to STDERR\n",
            "I0000 00:00:1760645663.330701 21445973 abstract_model.cc:1439] Engine \"GradientBoostedTreesQuickScorerExtended\" built\n",
            "2025-10-16 16:14:23.330734: I tensorflow_decision_forests/tensorflow/ops/inference/kernel.cc:1035] Use fast generic engine\n"
          ]
        },
        {
          "name": "stdout",
          "output_type": "stream",
          "text": [
            "18/18 [==============================] - 0s 7ms/step\n"
          ]
        }
      ],
      "source": [
        "\n",
        "import numpy as np\n",
        "import pandas as pd\n",
        "import tensorflow as tf\n",
        "import tensorflow_decision_forests as tfdf\n",
        "from sklearn.model_selection import train_test_split\n",
        "from sklearn.metrics import r2_score, mean_absolute_percentage_error\n",
        "\n",
        "target = \"ClosePrice\"\n",
        "\n",
        "# cutoffs from TRAIN\n",
        "y_tr_all = pd.to_numeric(train_df[target], errors=\"coerce\")\n",
        "lo, hi = y_tr_all.quantile([0.005, 0.995])\n",
        "\n",
        "# trim BOTH using train cutoffs\n",
        "train_trim = train_df[(train_df[target] >= lo) & (train_df[target] <= hi)].copy()\n",
        "test_trim  = test_df[(test_df[target]  >= lo) & (test_df[target]  <= hi)].copy()\n",
        "\n",
        "# numeric features\n",
        "num_cols = train_trim.select_dtypes(include=[np.number]).columns.drop(target, errors=\"ignore\").tolist()\n",
        "train_trim[num_cols] = train_trim[num_cols].astype(\"float32\")\n",
        "test_trim  = test_trim.reindex(columns=test_trim.columns.union(num_cols)).copy()\n",
        "test_trim[num_cols]  = test_trim[num_cols].astype(\"float32\")\n",
        "\n",
        "# split train/valid\n",
        "X = train_trim[num_cols]\n",
        "y = pd.to_numeric(train_trim[target], errors=\"coerce\").astype(\"float32\")\n",
        "X_tr, X_va, y_tr, y_va = train_test_split(X, y, test_size=0.2, random_state=42)\n",
        "\n",
        "# TF-DF datasets\n",
        "df_tr = X_tr.copy(); df_tr[target] = y_tr.values\n",
        "df_va = X_va.copy(); df_va[target] = y_va.values\n",
        "train_ds = tfdf.keras.pd_dataframe_to_tf_dataset(df_tr, label=target, task=tfdf.keras.Task.REGRESSION)\n",
        "valid_ds = tfdf.keras.pd_dataframe_to_tf_dataset(df_va, label=target, task=tfdf.keras.Task.REGRESSION)\n",
        "\n",
        "test_tf = test_trim[num_cols].copy()\n",
        "test_tf[target] = pd.to_numeric(test_trim[target], errors=\"coerce\").astype(\"float32\")\n",
        "test_ds = tfdf.keras.pd_dataframe_to_tf_dataset(test_tf, label=target, task=tfdf.keras.Task.REGRESSION)\n",
        "\n",
        "# model\n",
        "model = tfdf.keras.GradientBoostedTreesModel(\n",
        "    task=tfdf.keras.Task.REGRESSION,\n",
        "    num_trees=1000,\n",
        "    max_depth=6,\n",
        "    shrinkage=0.03,\n",
        "    subsample=0.8,\n",
        "    l2_regularization=1.0,\n",
        "    random_seed=42\n",
        ")\n",
        "model.fit(train_ds, validation_data=valid_ds, verbose=0)\n",
        "\n",
        "\n",
        "# evaluate\n",
        "pred_va   = model.predict(valid_ds).ravel()\n",
        "\n",
        "\n",
        "\n"
      ]
    },
    {
      "cell_type": "code",
      "execution_count": 32,
      "metadata": {
        "id": "PAGXeTikVcQN"
      },
      "outputs": [
        {
          "name": "stdout",
          "output_type": "stream",
          "text": [
            "R2 Score 0.8666359186172485\n"
          ]
        }
      ],
      "source": [
        "from sklearn import metrics\n",
        "print('R2 Score',metrics.r2_score(y_va,pred_va))"
      ]
    },
    {
      "cell_type": "code",
      "execution_count": 33,
      "metadata": {
        "id": "pNKIoEMjVcQO"
      },
      "outputs": [
        {
          "name": "stdout",
          "output_type": "stream",
          "text": [
            "MAPE: 0.1660\n"
          ]
        }
      ],
      "source": [
        "from sklearn.metrics import mean_absolute_percentage_error\n",
        "mape = mean_absolute_percentage_error(y_va, pred_va)\n",
        "\n",
        "print(f'MAPE: {mape:.4f}')\n"
      ]
    },
    {
      "cell_type": "code",
      "execution_count": 34,
      "metadata": {
        "id": "4z4lKKADVcQO"
      },
      "outputs": [
        {
          "name": "stdout",
          "output_type": "stream",
          "text": [
            "Median Absolute Percentage Error (MdAPE): 11.60%\n"
          ]
        }
      ],
      "source": [
        "def calculate_mdape(y_true, y_pred):\n",
        "    \"\"\"Calculates the Median Absolute Percentage Error (MdAPE).\"\"\"\n",
        "    # Exclude cases where the actual value is zero to avoid division by zero\n",
        "    non_zero_indices = y_true != 0\n",
        "    y_true_filtered = y_true[non_zero_indices]\n",
        "    y_pred_filtered = y_pred[non_zero_indices]\n",
        "\n",
        "    # Calculate Absolute Percentage Error (APE)\n",
        "    ape = np.abs((y_true_filtered - y_pred_filtered) / y_true_filtered)\n",
        "\n",
        "    # Return the median of the APE\n",
        "    return np.median(ape) * 100 # Return as a percentage\n",
        "\n",
        "# Calculate and print the MdAPE\n",
        "mdape_score = calculate_mdape(y_va, pred_va)\n",
        "print(f\"Median Absolute Percentage Error (MdAPE): {mdape_score:.2f}%\")"
      ]
    }
  ],
  "metadata": {
    "colab": {
      "provenance": []
    },
    "kernelspec": {
      "display_name": "base",
      "language": "python",
      "name": "python3"
    },
    "language_info": {
      "codemirror_mode": {
        "name": "ipython",
        "version": 3
      },
      "file_extension": ".py",
      "mimetype": "text/x-python",
      "name": "python",
      "nbconvert_exporter": "python",
      "pygments_lexer": "ipython3",
      "version": "3.12.2"
    }
  },
  "nbformat": 4,
  "nbformat_minor": 0
}
